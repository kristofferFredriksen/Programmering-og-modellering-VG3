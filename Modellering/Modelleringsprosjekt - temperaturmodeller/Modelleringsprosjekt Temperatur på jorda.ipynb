{
 "cells": [
  {
   "cell_type": "markdown",
   "metadata": {},
   "source": [
    "# Modelleringsprosjekt - Temperatur på jorda"
   ]
  },
  {
   "cell_type": "markdown",
   "metadata": {},
   "source": [
    "# 1. Hensikt"
   ]
  },
  {
   "cell_type": "markdown",
   "metadata": {},
   "source": [
    "Hensikten med dette prosjektet er å lage en enkel modell for gjennomsnittstemperaturen på jorda og få et innblikk inn i klimamodellering. Vi skal også utforske ulike modeller for temperaturen på jorda. "
   ]
  },
  {
   "cell_type": "markdown",
   "metadata": {},
   "source": [
    "# 2. Teori\n",
    "___"
   ]
  },
  {
   "cell_type": "markdown",
   "metadata": {},
   "source": [
    "## 2.1 Stefan-Boltzmanns lov"
   ]
  },
  {
   "cell_type": "markdown",
   "metadata": {},
   "source": [
    "Alle gjenstander som har en temperatur over absolutt nullpunkt vil utgi varmestråling. Varmestråling er elek-tromagnetisk stråling som fører varme (energi) til eller fra et system.  Det er mulig å beregne varmestrålingenfra en gjenstand når man kjenner gjenstandens temperatur og areal ved å bruke Stefan-Boltzmanns naturlov. Formelen kan skrives som: "
   ]
  },
  {
   "cell_type": "markdown",
   "metadata": {},
   "source": [
    "$$\\large{S = σ Tˆ4}$$"
   ]
  },
  {
   "cell_type": "markdown",
   "metadata": {},
   "source": [
    "der σ er Stefan-Boltzmanns konstant og er lik 5,6703∗10E−8 W/(mˆ2Kˆ4), og temperaturen T er målt i Kelvin. S vil da være lik strålingen fra et legeme gitt i W/m2, og man må tenke på arealet til legemet for å få den fullstendige strålingen."
   ]
  },
  {
   "cell_type": "markdown",
   "metadata": {},
   "source": [
    "## 2.2 Kalkulering av gjennomsnittlig elektromagnetisk stråling"
   ]
  },
  {
   "cell_type": "markdown",
   "metadata": {},
   "source": [
    "Kalkulering av gjennomsnittlig elektromagnetisk stråling Solkonstanten er målt gjennomsnittlig elektromagnetisk stråling (energi) fra solen som treffer vertikalt påjordklodens atmosfære. Energien som treffer toppen av atmosfæren har bare variert med 0.2 prosent på 400 år. Det blir derfor kalt for en konstant. Denne konstanten er målt til 1361 W/mˆ2. Det går an å kalkulere gjennomsnittlig elektromagnetisk stråling som treffer en planet ved å bruke solens varmestråling og distanse mellom solen og planeten i solsystemet. Matematisk vil det se ut"
   ]
  },
  {
   "cell_type": "markdown",
   "metadata": {},
   "source": [
    "$$S_0 = \\large\\frac{{radius_{sol}}^2}{{distanse_{jord\\space sol}}^2} \\cdot stråling\\space sol$$"
   ]
  },
  {
   "cell_type": "markdown",
   "metadata": {},
   "source": [
    "I denne formelen er $S_0$ den gjennomsnittlige stårlingen som treffer planeten målt ved W/mˆ2. $Distanse_{jord \\space sol}$ er avstanden mellom sola og jorda. Stråling sol er mengden stråling sola sender ut i alle retninger."
   ]
  },
  {
   "cell_type": "markdown",
   "metadata": {},
   "source": [
    "## 2.3 Energiprinsippet"
   ]
  },
  {
   "cell_type": "markdown",
   "metadata": {},
   "source": [
    "Energiprinsippet er loven om at energi er konstant.  Det vil si at energi ikke kan skapes eller tilintetgjøres.  Viser på planeter som et lukket system som blir tilført varmestråling fra verdensrommet (hovedsakelig solen), og sender ut varmestråling til verdensrommet. Det gir tre muligheter:\n",
    "\n",
    "1. Mer stråling tilført enn sendt ut. Planeten varmes opp over tid.\n",
    "\n",
    "2. Mer stråling sendt ut enn tilført. Planeten blir kaldere over tid.\n",
    "\n",
    "3. Energi inn = Energi ut. Temperaturen på planeten er konstant."
   ]
  },
  {
   "cell_type": "markdown",
   "metadata": {},
   "source": [
    "## Forenklet atmosfære"
   ]
  },
  {
   "cell_type": "markdown",
   "metadata": {},
   "source": [
    "Jordkloden har en gjennomsnittlig positiv temperatur på grunn av atmosfæren.  Denne temperaturen er målttil ca.  15◦C. Det vil være nødvendig å legge til et utrykk for atmosfæren for å ha en modell av jordkloden som gir temperaturverdier i nærheten av de målte verdiene. En metode for dette er å bruke tre antagelser (hvorav ingen av antagelsene er faktisk sanne) for å få et forenklet utrykk av atmosfæren. Disse antagelsene er:\n",
    "1.  Atmosfæren har en konstant temperatur - dvs.  at atmosfæren er en stor blokk hvor hele blokken harden samme temperaturen.\n",
    "2.  Atmosfæren  er  fullstendig  gjennomsiktig  for  stråling  fra  solen  -  dvs.   at  all  stråling  fra  solen  trefferjordoverflaten.\n",
    "3.  Atmosfæren tar imot all stråling fra jorden.\n",
    "\n",
    "I figuren nedenfor er situasjonen tegnet. Atmosfæren er en tenkt blokk som vist i grå farge. Strålingenfra solen går rett igjennom atmosfæren og treffer jordoverflaten (1). Jordkloden sender ut varmestråling ogall strålingen treffer atmosfæren (3). Situasjonen til atmosfæren vil da være at den sender ut stråling tilverdensrommet, men også stråling tilbake til jorden (2). Stefan-Boltzmanns lov vil gjelde for både jordkloden og atmosfæren."
   ]
  },
  {
   "cell_type": "markdown",
   "metadata": {},
   "source": [
    "## Modell 1"
   ]
  },
  {
   "cell_type": "markdown",
   "metadata": {},
   "source": [
    "Den første modellen vi skal se på er en stårlingsmodell. Denne modellen ser kun på mengeden varmestråling som treffer toppen av jordas atmosfære. Formelen for å kalkulere mengden energi (stråling), $S_O$ som treffer toppen av atmosfæren er:\n",
    "\n",
    "$$S_0 = \\large\\frac{{radius_{sol}}^2}{{distanse_{jord\\space sol}}^2} \\cdot stråling\\space sol$$\n",
    "\n",
    "Her er $S_0$ mengde stråling som treffer jorda fra sola, og $distanse_{jord \\space sol}$ er avstanden mellom sola og jorda. Stråling sol er mengden stråling sola sender ut i alle retninger."
   ]
  },
  {
   "cell_type": "markdown",
   "metadata": {},
   "source": [
    "## Modell 2"
   ]
  },
  {
   "cell_type": "markdown",
   "metadata": {},
   "source": [
    "Vi kan utvide modellen vår ved å også bruke energiprinsippet og Stefan-Boltzmanns lov til å regne ut temperaturen som vil oppstå på jorden. "
   ]
  },
  {
   "cell_type": "markdown",
   "metadata": {},
   "source": [
    "### 1 Energi inn i systemet"
   ]
  },
  {
   "cell_type": "markdown",
   "metadata": {},
   "source": [
    "Energien inn i systemet er mengden energi jorda absoberer. Vi setter det tidligere resultatet $S_0$ som solkonstanten. Jorda vil ikke absorbere all energien fra sola, noe av energien vil bli reflektert ut igjen. Målet på refleksjonsevnen til en flate kalles albedo. Solkonstanen måles i W/mˆ2, for å finne mengden ennergi må vi derfor finne effektarealet som blir truffet. Vi antar i denne modellen at jorda er en flat sirkel, og kan derfor lett finne areal ved formelen: $\\pi R{_{Jorda}}^2$\n",
    "\n",
    "Med alt dette i betraktning finner vi at formelen for den absorberte energien er gitt ved:"
   ]
  },
  {
   "cell_type": "markdown",
   "metadata": {},
   "source": [
    "$$E_{absorbert} = S_0 \\cdot (1 - albedo) \\cdot \\pi R{_{Jorda}}^2$$"
   ]
  },
  {
   "cell_type": "markdown",
   "metadata": {},
   "source": [
    "### 2 Energi ut av systemet"
   ]
  },
  {
   "cell_type": "markdown",
   "metadata": {},
   "source": [
    "Stefan-Boltzmanns lov: Hvor mye energi som blir sendt ut fra overflaten til et legeme per flateenhet og tidsenhet i form av varmestråling. Denne loven blir fremstilt gjennom formelen: \n",
    "\n",
    "$\\phi=\\sigma T^4$, Her er $\\sigma$ Stefan-Boltzmann konstant. $\\sigma = 5.670373 \\cdot 10^{-8} W / (m^2K^4)$\n",
    "\n",
    "Utifra dette finner vi at formelen for $E_{emittert}$ er gitt ved:\n",
    "\n",
    "$$E_{emittert} = \\sigma T^4 \\cdot 4\\pi R{_E}^2$$\n",
    "\n",
    "Denne formelen vil fortelle oss hvor mye energi jorda vil sende ut gitt en viss temperatur, T."
   ]
  },
  {
   "cell_type": "markdown",
   "metadata": {},
   "source": [
    "### 3 Energi inn i systemet = Energi ut av systemet"
   ]
  },
  {
   "cell_type": "markdown",
   "metadata": {},
   "source": [
    "På grunn av energiprinsippet, prinsippet om at energi er konstant, må energien inn på planeten, være den samme som energien ut fra planeten\n",
    "\n",
    "$$ E_{absorbert}= E_{emittert}$$\n",
    "\n",
    "Dette gir oss likningen:\n",
    "\n",
    "$$ S_0 \\cdot (1 - albedo) \\cdot \\pi R{_E}^2 = \\sigma T^4 \\cdot 4\\pi R{_E}^2$$\n",
    "\n",
    "Vi kan omforme denne likingen for å finne en formel for temperaturen på jorda:\n",
    "\n",
    "$$T = \\sqrt[4]{\\frac{S_0\\cdot(1-albedo)}{4\\sigma}}$$\n",
    "\n",
    "Denne temperaturen vil bli gitt i Kelvin så for å finne temperaturen i Celsius må vi subtrahere T med 273.15"
   ]
  },
  {
   "cell_type": "markdown",
   "metadata": {},
   "source": [
    "## Modell 3"
   ]
  },
  {
   "cell_type": "markdown",
   "metadata": {},
   "source": [
    "Vi kan videre utvide modellen vår ved å legge til en forenklet modell for atmosfæren. \n",
    "\n",
    "For å legge til atmosfæren som et ledd i utregningen vår for temperatur tar vi for oss to systemer:\n",
    "\n",
    "Energi inn på jorda fra sola = Energi ut i verdensrommet fra atmosfæren. Vi legger deretter til den forenklede atmosfæremodellen vår, som et ledd som mottar og sender ut varmestråling. \n",
    "\n",
    "Utifra dette finner vi tre formler som vi setter sammen til modellen vår: \n",
    "\n",
    "$ (1)  Stråling_{sol->jord} = Stråling_{atmosfæren \\space ut \\space i \\space verdensrommet} = \\frac {Stråling_{atmosfæren}}{2} $\n",
    "\n",
    "$ (2)  Stråling_{fra\\space jorda\\space på\\space atmosfæren} = Stråling_{ atmosfæren} $\n",
    "\n",
    "$(3)  Stråling_{inn\\space jord} = Stråling_{sol->jord} + \\frac {Stråling_{atmosfære}}{2}  $\n",
    "\n",
    "Videre setter vi (1) inn i (3) og finner formelen: \n",
    "\n",
    "$ Stråling_{inn\\space jord} = {2*Stråling_{sol->jord}}  $\n",
    "\n",
    "og på grunn av energiprinsippet kan vi regne med at $ Stråling_{inn\\space jord} = Stråling_{ut \\space jord} = \\sigma T^4_{jorda} $\n",
    "\n",
    "Dette gir oss da at jordas temperatur er gitt ved:\n",
    "\n",
    "$ T_{jorda} = \\sqrt[4]{\\frac{2*Stråling_{sol->jord}}{\\sigma}}  $\n",
    "\n",
    "Her er selvfølgelig $ Stråling_{sol->jord} = solkonstanten \\cdot (1-albedo) $\n",
    "\n",
    "Dette svaret vil igjen bli gitt i Kelvin. Og for å legge til en forenkling av natt og dagsyklusen kan man dele $ Stråling_{sol->jord} $ på 4"
   ]
  },
  {
   "cell_type": "markdown",
   "metadata": {},
   "source": [
    "## Modell 4"
   ]
  },
  {
   "cell_type": "markdown",
   "metadata": {},
   "source": [
    "Som nok en utvidelse av den forrige modellen for atmosfæren, sier vi at atmosfæren absorberer 20% av strålingen fra sola på jorda. Dersom vi legger til dette i formelen vi fant i modell 3 for temperaturen med atmosfære og natt og dagsyklus finner vi formelen:\n",
    "\n",
    "$ T_{jorda} = \\sqrt [4] {\\frac{1.7*Stråling_{sol-jord}}{\\sigma*4}} $\n",
    "\n",
    "Dette vil gi oss temperaturen i kelvin."
   ]
  },
  {
   "cell_type": "markdown",
   "metadata": {},
   "source": [
    "## Modell 5"
   ]
  },
  {
   "cell_type": "markdown",
   "metadata": {},
   "source": [
    "For å nok en gang utvide modellen skal vi se på et tilfelle hvor vi måler temperaturen på ekvator. Dette skal vi gjøre gjennom en funksjon for temperaturen av distansen mellom sola og jorda. Til denne modellen trenger vi Keplers 1. lov om at planetene beveger seg i ellipser rundt sola. \n",
    "\n",
    "$ Distanse_{sol->jord} = \\frac{a*(1-e^2)}{1-e*cos( \\Theta )} $\n",
    "\n",
    "Her er $a = {1,496*10}^8$ og $e = {1,67*10}^{-2}$\n",
    "\n",
    "$ \\Theta = \\frac {2 \\pi * n}{365} $\n",
    "\n",
    "Hvor n er antall dager etter 1. Januar."
   ]
  },
  {
   "cell_type": "markdown",
   "metadata": {},
   "source": [
    "# 3. Resultat\n",
    "___"
   ]
  },
  {
   "cell_type": "markdown",
   "metadata": {},
   "source": [
    "## Modell/oppgave 1"
   ]
  },
  {
   "cell_type": "markdown",
   "metadata": {},
   "source": [
    "For å finne den gjennomsnittelige strålingen som toppen av atmosfæren bruker vi Stefan-Boltzmanns lov for utstråling av energi (Elektromagnetisk stråling) per flateenhet fra et svart legemet. Formelen er gitt ved:"
   ]
  },
  {
   "cell_type": "markdown",
   "metadata": {},
   "source": [
    "$$ S_0 = \\large\\frac {radiusˆ{2}_{sol}}{distanseˆ{2}_{sol/jord}} \\cdot stråling_{sol} $$"
   ]
  },
  {
   "cell_type": "code",
   "execution_count": 20,
   "metadata": {},
   "outputs": [
    {
     "name": "stdout",
     "output_type": "stream",
     "text": [
      "Varmestrålingen, S_0 fra Sola på Jorda er: 1369 W/m^2\n"
     ]
    }
   ],
   "source": [
    "from pylab import *\n",
    "\n",
    "#Konstanter\n",
    "sigma = 5.6703*1e-08                 # Stefan-Boltzmans konstant\n",
    "T_sol = 5778                         # Temperaturen til sola i Kelvin\n",
    "r_sol = 6.963*1e08                   # Radiusen til sola i meter\n",
    "distanse_sol_jord = 1.496*1e11       # Gjennomsnittsavstand fra Jorda til Sola i meter\n",
    "\n",
    "def S_B_lov(temp): # Funksjon for Stefan-Boltzmnannslov \n",
    "    return sigma*temp**4\n",
    "\n",
    "def varmestråling(Stråling,distanse,radius): # Funksjon for solkonstanten\n",
    "    return (Stråling*radius**2)/distanse**2\n",
    "\n",
    "stråling_sol = S_B_lov(T_sol) # Regner ut strålingen sola sender ut\n",
    "S_0 = varmestråling(stråling_sol,distanse_sol_jord,r_sol) # Regner ut solkonstanten\n",
    "\n",
    "print(\"Varmestrålingen, S_0 fra Sola på Jorda er:\", round(S_0), \"W/m^2\")\n"
   ]
  },
  {
   "cell_type": "markdown",
   "metadata": {},
   "source": [
    "## Modell/Oppgave 2"
   ]
  },
  {
   "cell_type": "code",
   "execution_count": 28,
   "metadata": {},
   "outputs": [
    {
     "name": "stdout",
     "output_type": "stream",
     "text": [
      "Gjennomsnittstemperaturen på jorda blir ca. -18.19 grader celsius\n"
     ]
    }
   ],
   "source": [
    "# Konstanter\n",
    "r_jorda = 6.371e6 # Radius jorda (meter)\n",
    "albedo = 0.3 # Refleksjonskonstanten til jorda\n",
    "\n",
    "def kelvin_celsius (kelvin): # Funksjon for omgjøring av temperatur fra kelvin til celsius ved å subtrahere 273.15\n",
    "    return kelvin - 273.15\n",
    "\n",
    "temp_jorda = ((S_0*(1-albedo))/(4*sigma))**(1/4) # Temperaturen på jorda i kelvin\n",
    "\n",
    "print (\"Gjennomsnittstemperaturen på jorda blir ca.\", round(kelvin_celsius(temp_jorda),2), \"grader celsius\")"
   ]
  },
  {
   "cell_type": "markdown",
   "metadata": {},
   "source": [
    "## Modell/Oppgave 3"
   ]
  },
  {
   "cell_type": "code",
   "execution_count": 34,
   "metadata": {},
   "outputs": [
    {
     "name": "stdout",
     "output_type": "stream",
     "text": [
      "Temperaturen på jorda med atmosfære, uten natt og dag syklus er: 155.64 grader celsius\n",
      "Temperaturen på jorda med atmosfære og natt og dag syklus er: 30.05 grader celsius\n"
     ]
    }
   ],
   "source": [
    "Ny_tempjorda = (2*S_0*(1-albedo)/sigma)**(1/4)  # Temperaturen på jorda i kelvin\n",
    "temp_nattdag = (2*S_0*(1-albedo)/(sigma*4))**(1/4)  # Temperaturen på jorda i kelvin med natt og dag syklus\n",
    "\n",
    "print (\"Temperaturen på jorda med atmosfære, uten natt og dag syklus er:\", round(kelvin_celsius(Ny_tempjorda), 2), \"grader celsius\")\n",
    "print (\"Temperaturen på jorda med atmosfære og natt og dag syklus er:\", round(kelvin_celsius(temp_nattdag), 2), \"grader celsius\")"
   ]
  },
  {
   "cell_type": "markdown",
   "metadata": {},
   "source": [
    "## Modell/Oppgave 4"
   ]
  },
  {
   "cell_type": "code",
   "execution_count": 38,
   "metadata": {},
   "outputs": [
    {
     "name": "stdout",
     "output_type": "stream",
     "text": [
      "Temperaturen på jorda med atmosfære som også absorberer 20% av solas varmestråling og natt og dag syklus er: 17.98\n"
     ]
    }
   ],
   "source": [
    "# Formel\n",
    "temp_nattdag = (1.7*S_0*(1-albedo)/(sigma*4))**(1/4) # Temperaturen på jorda i kelvin etter atmosfæren absorberer 20% av solinnstrålingen\n",
    "\n",
    "print (\"Temperaturen på jorda med atmosfære som også absorberer 20% av solas varmestråling og natt og dag syklus er:\", round(kelvin_celsius(temp_nattdag),2))"
   ]
  },
  {
   "cell_type": "markdown",
   "metadata": {},
   "source": [
    "## Modell/Oppgave 5"
   ]
  },
  {
   "cell_type": "code",
   "execution_count": 39,
   "metadata": {},
   "outputs": [
    {
     "data": {
      "image/png": "[encoded data removed]",
      "text/plain": [
       "<Figure size 432x288 with 1 Axes>"
      ]
     },
     "metadata": {
      "needs_background": "light"
     },
     "output_type": "display_data"
    },
    {
     "data": {
      "image/png": "[encoded data removed]",
      "text/plain": [
       "<Figure size 432x288 with 1 Axes>"
      ]
     },
     "metadata": {
      "needs_background": "light"
     },
     "output_type": "display_data"
    }
   ],
   "source": [
    "# Konstanter\n",
    "a = 1.496*10**11   # Avstanden fra sola til \"midten\" av ellipsen\n",
    "e = 1.67*10**(-2)  # En konstant funnet til formelen\n",
    "\n",
    "# Lister\n",
    "distanse = [] # Liste for avstand mellom sola og jorda i meter\n",
    "solinnstråling = [] # Liste for mengden solinnstråling i W/mˆ2\n",
    "temperatur = [] # Liste for temperaturen på jorda i Kelvin\n",
    "tid = [] # Liste over tid i dager\n",
    "\n",
    "# Funksjoner\n",
    "def distanse_soljord (theta): # Keplers 1. lov om at jorda beveger seg i en ellipse rundt sola. Avstand gitt i meter\n",
    "    return (a*(1-e**2)/(1-e*cos(theta)))\n",
    "\n",
    "def formel_temperatur(solstråling):   # Formel fra modell 4, som gir deg temperaturen i celcius, gitt solinnstrålingen på jorda\n",
    "        return kelvin_celsius ((1.7*solstråling*(1-albedo)/(sigma*4))**(1/4))\n",
    "\n",
    "# Løkke \n",
    "for n in range (365): # Løkke for antall dager i et år. Her represetnerer n antall dager etter 1. Januar\n",
    "    theta = (2 * pi * n)/365 # Formelen for theta i keplers lov \n",
    "    \n",
    "    avstand = distanse_soljord (theta) # Regner ut avstanden mellom sola og jorda ettersom hvor mange dager det har gått\n",
    "    stråling = varmestråling(stråling_sol,avstand,r_sol)    # Bruker formelen fra den første modellen\n",
    "    \n",
    "    # Legger verdiene inn i listene\n",
    "    distanse.append (avstand)\n",
    "    solinnstråling.append (stråling)\n",
    "    tid.append (n)\n",
    "    temperatur.append (formel_temperatur(stråling))\n",
    "    \n",
    "# Plotting\n",
    "\n",
    "## Plot avstand(sol - jord)\n",
    "plot (tid, distanse, Color = \"hotpink\", label = \"avstand_soljord\")\n",
    "xlabel (\"tid (Dager)\")\n",
    "ylabel (\"Avstand (Meter)\")\n",
    "grid ()\n",
    "legend ()\n",
    "show ()\n",
    "\n",
    "## Plot temperatur\n",
    "plot (tid, temperatur, Color = \"gold\", label = \"temperatur\")\n",
    "xlabel (\"tid (Dager)\")\n",
    "ylabel (\"temperatur (Celsius)\")\n",
    "grid ()\n",
    "legend ()\n",
    "show () \n"
   ]
  },
  {
   "cell_type": "markdown",
   "metadata": {},
   "source": [
    "# 4. Diskusjon\n",
    "___"
   ]
  },
  {
   "cell_type": "markdown",
   "metadata": {},
   "source": [
    "## Modell 1"
   ]
  },
  {
   "cell_type": "markdown",
   "metadata": {},
   "source": [
    "Modellen viser oss at den gjennomsnittelige strålingen som kommer fra sola og treffer toppen av atmosfæren er avhengig av radiusen til sola, distansen mellom sola og jorda og mengden stråling sola emitterer. Om vi skal se på denne formelen fra et logisk synspunkt, gir den svært mye mening. Formelen forteller oss at dersom radiusen til sola øker eller distansen mellom sola og jorda minker vil mengden stråling som treffer jorda øke. \n",
    "\n",
    "Denne modellen baseres på noen forutsetninger. For det første baserer modellen seg på jorda ikke mottar stråling fra noen andre legemer og at strålingen sola emitterer er konstant. Formelen i seg selv baserer seg på at avstanden mellom sola og jorden er konstant. Dette vil si at den forutsetter at jorda beveger seg i en sikrel rundt sola, noe den ikke gjør, jorda beveger seg i en elliptisk bane. Det er gjennom bruken av gjennomsnitts avstand og gjennomsnittsstrålingen fra sola som gjør at dette er en god gjennomsnittsmodell og også det som kan gjøre at den varierer litt fra den målte solkonstanten. "
   ]
  },
  {
   "cell_type": "markdown",
   "metadata": {},
   "source": [
    "## Modell 2"
   ]
  },
  {
   "cell_type": "markdown",
   "metadata": {},
   "source": [
    "I denne modellen regner vi oss frem til en gjennomsnittlig temperatur på jorda og legger til en refleksjonskonstant (albedo). Denne modellen inkluderer ikke en atmosfære noe som fører til at svaret vårt blir mye lavere enn jordas målte gjennomsnittstemperatur. Vi forutsetter også tre ting. Det første vi forutsetter er at temperaturen er konstant. Det andre er at refleksjonen av solas varmestråling er konstant. Og til slutt forutsetter vi at planeten er en flat sirkel.\n",
    "\n",
    "Vi kan forutsette at jorda er som en flat sirkel fordi, om man ser jorda fra sola sitt perspektiv, vil den se ut som en sirkel. Strålingen vil også treffe et geometrisk område lik en sirkel. Man kan også si at jorda kun vil motta stråling på den ene halvsiden om gangen, men denne strålingen vil treffe hele denne halvsiden. og dersom man kutter jorda i to vil effektområde strålingen treffer ha samme arealet som en flat sirkel med jordas radius. \n",
    "\n",
    "Den temperaturen vi regnet oss frem til var ca. -18°C, og den målte temperaturen er +15°C. Vårt svar ble altså mye lavere. Men dette er ikke så urimelig med tanke på at modellen vår ikke inkluderer en atmosfære som reflekterer tilbake noe av strålingen fra jorda. Modellen er derfor ikke egnet til å beregne faktiske temperaturer på jorda. \n",
    "\n",
    "Den temperaturen vi nå fant vil gjøre at temperaturen på jorda vil være konstant. Dersom temperaturen blir høyere kan vi se at jorda vil sende ut mer energi enn inn og temperaturen vil synke tilbake. Og det motsatte ville skjedd dersom temperaturen hadde sunket. Vi kan gjennom dette anta at temperaturen er konstant(ikke vil stige eller synke)."
   ]
  },
  {
   "cell_type": "markdown",
   "metadata": {},
   "source": [
    "## Modell 3"
   ]
  },
  {
   "cell_type": "markdown",
   "metadata": {},
   "source": [
    "I modell 3 har vi utvidet modellen ved å legge til en forenklet modell av atmosfæren som et ledd i temperaturutregningen. Utenom det har vi samme forutsetninger som i den forrige modellen. Med atmosfæren i utregningene finner vi en temperatur på ca. 155°C. Dette er mye høyere enn den målte temperaturen. Om vi også utvider modellen med en natt og dag syklusfår vi ca. 30°C, noe som er mer brukbart. Om vi tar i betraktning at ser på jorda som en flat sirkel, som vil være det samme som at hele jorda mottar samme stråling som ekvator, gir svaret mer mening. Dersom vi velger å sammenligne dette svaret med gjennomsnittstemperaturen ved ekvator, som ligger et sted mellom ca. 16°C og 23°C er ikke svaret like langt unna. \n",
    "\n",
    "Denne modellen forutsetter også at atmosfæren slipper gjennom all stråling fra sola på jorda, og at den absorberer all strålingen som kommer fra jorda. Vi antar også at hele atmosfæren er en stor blokk med samme temperatur. \n",
    "\n",
    "Denne modellen tar for seg en god del forenklinger for atmosfæren som begrenser den. Når vi behandler atmosfæren som et legemet med som opprettholder samme temperatur, kan modellen fungere til å lage enkle modeller for store systemer, men den vil ikke være nøyaktig nok til å modellere konkrete temperaturer på bestemte punkter på jorden. \n",
    "  \n",
    "Her regner vi med at stålingen ut i verdensommet fra atmosfæren må være lik $\\frac {1}{2}$ av strålingen fra jorda på atmosfæren. På grunn av energiprinsippet (Energi inn = energi ut) må strålingen fra jorda på atmosfæren være lik strålingen fra sola + strålingen fra atmosfæren. Vi kan igjen gjennom energiprinsippet se at strålingen inn på jorda fra sola må være lik strålingen fra atmosfæren på verdensrommet. "
   ]
  },
  {
   "cell_type": "markdown",
   "metadata": {},
   "source": [
    "## Modell 4"
   ]
  },
  {
   "cell_type": "markdown",
   "metadata": {},
   "source": [
    "Denne modellen er for det meste lik som modell 3, men i denne sier vi at atmosfæren absorberer 20% av varmestrålingen fra sola på jorda. Utenom dette har vi like forutsetninger som i modell 3.\n",
    "\n",
    "I denne modellen ser vi at resultatet er mye bedre enn de forrige resultatene. I denne modellen fikk vi ca. 18°C. Dette er betraketelig bedre enn de tidligere modellen og resultatet begynner seg nå å nærme seg det målte gjennomsnittet, 15°C. Grunnen til at denne modellen også er litt høyere enn den vanlige er fordi vi fortsatt baserer modellen på at jorda er en flat sirkel. Og vi tar fortsatt ikke i betraktning at avstanden mellom jorda og sola varierer på grunn av den elliptiske banen til jorda. "
   ]
  },
  {
   "cell_type": "markdown",
   "metadata": {},
   "source": [
    "## Modell 5"
   ]
  },
  {
   "cell_type": "markdown",
   "metadata": {},
   "source": [
    "I modell 5 bruker vi samme teorien som i modell 4 og anvender kunnskap om Keplers lover om gravitasjon og ellipsebaner. Ved hjelp av denne kunnskapen klarer vi å modellere jordas bane rundt sola. Dette vil si at vi har en modell som kan finne distansen mellom sola og jorda som en funksjon av tiden(i dager). Denne modellen støtter seg dermed på samme forutsetninger som de tidligere modellene, i tillegg til at vi ser på jordas bane rundt sola som en ellipse med sola som et brennpunkt. denne modellen er derimot begrenset til gjennomsnittstemperaturene per dag, som vil si at den ikke vil gi temperaturene for individuelle timer. \n",
    "\n",
    "Resultatene er som man ville tippet de skulle være. Temperaturens bunnpunkt er midt i vinteren rundt januar. Den blir sakte men sikkert høyere frem mot sommeren til den når sitt toppunkt etter ca. 180 dager, rundt juni. Utifra de to grafene kan vi se at avstanden er motsatt proposjonal med temperaturen. Det vil si at når avstanden mellom sola og jorda er lav(som i juni) vil temperaturen være høy og motsatt når avstanden er stor. \n",
    "\n",
    "Det vi ser er at temperaturen i modellen ligger et sted mellom ca. 16°C og 21°C noe som passer godt med den målte gjennomsnittstemperaturen for ekvator som ligger et sted mellom 16°C og 23°C. "
   ]
  },
  {
   "cell_type": "markdown",
   "metadata": {},
   "source": [
    "# 5. konklusjon\n",
    "___"
   ]
  },
  {
   "cell_type": "markdown",
   "metadata": {},
   "source": [
    "For å avrunde har vi nå modellert fem ulike modeller for temperaturen og strålingen på jorda. Modellene har vært av forskjellig kompleksitet og med forskjellige forutsetninger. Modellene blir gyldige gjennom bruk av natur- og fysikklover. Modellene treffer ikke 100%, men vi kan se at ettersom vi benytter oss av flere forutsetninger blir modellene mer og mer nøyaktige sammenlignet med målte gjennomsnittstemperaturer. \n",
    "\n",
    "Dersom vi hadde ønsket og videreutvikle modellen kunne vi innført jordas vinkling som en forutsetning. Vi kunne og skapt en mer realistisk modell for atmosfæren, og droppet mange av forenklingene. Alt i alt så kom modellene våre seg ganske nærme de målte gjennomsnittstemperaturene. "
   ]
  },
  {
   "cell_type": "code",
   "execution_count": null,
   "metadata": {},
   "outputs": [],
   "source": []
  }
 ],
 "metadata": {
  "kernelspec": {
   "display_name": "Python 3",
   "language": "python",
   "name": "python3"
  },
  "language_info": {
   "codemirror_mode": {
    "name": "ipython",
    "version": 3
   },
   "file_extension": ".py",
   "mimetype": "text/x-python",
   "name": "python",
   "nbconvert_exporter": "python",
   "pygments_lexer": "ipython3",
   "version": "3.8.3"
  }
 },
 "nbformat": 4,
 "nbformat_minor": 4
}
